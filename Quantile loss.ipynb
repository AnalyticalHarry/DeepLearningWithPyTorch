{
 "cells": [
  {
   "cell_type": "markdown",
   "id": "14e6bf8f-4220-4fc6-9262-fead55d33c63",
   "metadata": {},
   "source": [
    "## quantile_loss"
   ]
  },
  {
   "cell_type": "code",
   "execution_count": null,
   "id": "10fcb783-f623-4692-9820-cfad01740f20",
   "metadata": {},
   "outputs": [],
   "source": [
    "import torch\n",
    "import torch.nn as nn\n",
    "import numpy as np\n",
    "import matplotlib.pyplot as plt"
   ]
  },
  {
   "cell_type": "code",
   "execution_count": null,
   "id": "79e315d3-01d0-4dde-b3cb-a0948dea7ab2",
   "metadata": {},
   "outputs": [],
   "source": [
    "rng = np.random.RandomState(55)\n",
    "X_1d = np.linspace(0, 10, num=2000)\n",
    "X = torch.tensor(X_1d, dtype=torch.float32).view(-1, 1)\n",
    "y = X_1d * np.cos(X_1d) + rng.normal(scale=X_1d / 3, size=X_1d.shape)\n",
    "y = torch.tensor(y, dtype=torch.float32).view(-1, 1)"
   ]
  },
  {
   "cell_type": "code",
   "execution_count": null,
   "id": "c4f9d909-5613-44e4-a6e0-bac593372d7d",
   "metadata": {},
   "outputs": [],
   "source": [
    "#neural network model\n",
    "class Net(nn.Module):\n",
    "    def __init__(self):\n",
    "        super(Net, self).__init__()\n",
    "        self.fc1 = nn.Linear(1, 64)\n",
    "        self.fc2 = nn.Linear(64, 64)\n",
    "        self.fc3 = nn.Linear(64, 1)\n",
    "        self.relu = nn.ReLU()\n",
    "\n",
    "    def forward(self, x):\n",
    "        x = self.relu(self.fc1(x))\n",
    "        x = self.relu(self.fc2(x))\n",
    "        return self.fc3(x)"
   ]
  },
  {
   "cell_type": "code",
   "execution_count": null,
   "id": "627377ed-c743-47d0-93b3-1f0bf2f6a561",
   "metadata": {},
   "outputs": [],
   "source": [
    "# Custom quantile loss function\n",
    "def quantile_loss(q, y, f):\n",
    "    e = y - f\n",
    "    return torch.max((q - 1) * e, q * e).mean()"
   ]
  },
  {
   "cell_type": "code",
   "execution_count": null,
   "id": "be263ff4-2ebd-4e6b-a9ae-a2fe60e99ea6",
   "metadata": {},
   "outputs": [],
   "source": [
    "# Initialize the model, optimizer, and quantile\n",
    "model = Net()\n",
    "optimizer = torch.optim.Adam(model.parameters(), lr=0.01)\n",
    "quantile = 0.5  # For median regression"
   ]
  },
  {
   "cell_type": "code",
   "execution_count": null,
   "id": "69f59159-fa46-4e25-bd3e-29e8d4fe6932",
   "metadata": {},
   "outputs": [],
   "source": [
    "# Training loop\n",
    "for epoch in range(1000):\n",
    "    optimizer.zero_grad()\n",
    "    output = model(X)\n",
    "    loss = quantile_loss(quantile, y, output)\n",
    "    loss.backward()\n",
    "    optimizer.step()\n",
    "\n",
    "    if epoch % 100 == 0:\n",
    "        print(f'Epoch {epoch}, Loss: {loss.item()}')"
   ]
  },
  {
   "cell_type": "code",
   "execution_count": null,
   "id": "386a21b2-a268-4434-864a-ad0fe3136ce7",
   "metadata": {},
   "outputs": [],
   "source": [
    "# Plot the results\n",
    "with torch.no_grad():\n",
    "    plt.figure(figsize=(10, 6))\n",
    "    plt.plot(X_1d, y.numpy(), 'o', markersize=2, label='Data')\n",
    "    plt.plot(X_1d, model(X).numpy(), 'r-', label='Prediction')\n",
    "    plt.title('Neural Network Regression with Quantile Loss')\n",
    "    plt.legend()\n",
    "    plt.show()"
   ]
  }
 ],
 "metadata": {
  "kernelspec": {
   "display_name": "Python 3 (ipykernel)",
   "language": "python",
   "name": "python3"
  },
  "language_info": {
   "codemirror_mode": {
    "name": "ipython",
    "version": 3
   },
   "file_extension": ".py",
   "mimetype": "text/x-python",
   "name": "python",
   "nbconvert_exporter": "python",
   "pygments_lexer": "ipython3",
   "version": "3.11.7"
  }
 },
 "nbformat": 4,
 "nbformat_minor": 5
}
